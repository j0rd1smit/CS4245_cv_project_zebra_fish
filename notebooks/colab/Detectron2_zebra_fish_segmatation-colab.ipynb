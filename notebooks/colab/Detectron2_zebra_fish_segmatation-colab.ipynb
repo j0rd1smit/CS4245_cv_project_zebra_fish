{
 "cells": [
  {
   "cell_type": "markdown",
   "metadata": {
    "colab_type": "text",
    "id": "t995W39KWYIM"
   },
   "source": [
    "# Detectron2: Zebrafish\n",
    "\n",
    "<table align=\"left\">\n",
    "<tbody><tr><td>\n",
    "   <a target=\"_blank\" href=\"https://colab.research.google.com/github/j0rd1smit/CS4245_cv_project_zebra_fish/blob/master/notebooks/colab/Detectron2_zebra_fish_segmatation-colab.ipynb\">\n",
    "     <img src=\"https://camo.githubusercontent.com/dfbf50eed8dd2dea5f3e0beaaf2001eeca77f314/68747470733a2f2f7777772e74656e736f72666c6f772e6f72672f696d616765732f636f6c61625f6c6f676f5f333270782e706e67\" data-canonical-src=\"https://www.tensorflow.org/images/colab_logo_32px.png\">Run in Google Colab\n",
    "   </a>\n",
    " </td>\n",
    "<td>\n",
    "   <a target=\"_blank\" href=\"https://github.com/j0rd1smit/CS4245_cv_project_zebra_fish/blob/master/notebooks/colab/Detectron2_zebra_fish_segmatation-colab.ipynb\">\n",
    "     <img width=\"32px\" src=\"https://camo.githubusercontent.com/9a6bfd119aeed95f13553a994f2d1cd97e033768/68747470733a2f2f7777772e74656e736f72666c6f772e6f72672f696d616765732f4769744875622d4d61726b2d333270782e706e67\" data-canonical-src=\"https://www.tensorflow.org/images/GitHub-Mark-32px.png\">View source on GitHub</a>\n",
    " </td>\n",
    "</tr></tbody></table>"
   ]
  },
  {
   "cell_type": "markdown",
   "metadata": {
    "colab_type": "text",
    "id": "RX4vF6JnWf5r"
   },
   "source": [
    "## Install detectron2"
   ]
  },
  {
   "cell_type": "code",
   "execution_count": null,
   "metadata": {},
   "outputs": [],
   "source": [
    "!pip install -U torch==1.4+cu100 torchvision==0.5+cu100 -f https://download.pytorch.org/whl/torch_stable.html \n",
    "!pip install cython pyyaml==5.1\n",
    "!pip install -U 'git+https://github.com/cocodataset/cocoapi.git#subdirectory=PythonAPI'\n",
    "!gcc --version"
   ]
  },
  {
   "cell_type": "code",
   "execution_count": null,
   "metadata": {},
   "outputs": [],
   "source": [
    "!pip install detectron2 -f https://dl.fbaipublicfiles.com/detectron2/wheels/cu100/index.html"
   ]
  },
  {
   "cell_type": "code",
   "execution_count": null,
   "metadata": {},
   "outputs": [],
   "source": [
    "!git clone https://github.com/j0rd1smit/CS4245_cv_project_zebra_fish.git\n",
    "!cd CS4245_cv_project_zebra_fish"
   ]
  },
  {
   "cell_type": "code",
   "execution_count": null,
   "metadata": {
    "pycharm": {
     "name": "#%%\n"
    }
   },
   "outputs": [],
   "source": [
    "import os\n",
    "os.chdir(\"CS4245_cv_project_zebra_fish\")"
   ]
  },
  {
   "cell_type": "markdown",
   "metadata": {
    "colab_type": "text",
    "id": "oyvHKjDWW2rb"
   },
   "source": [
    "## Train on a custom dataset"
   ]
  },
  {
   "cell_type": "code",
   "execution_count": null,
   "metadata": {
    "pycharm": {
     "name": "#%%\n"
    }
   },
   "outputs": [],
   "source": [
    "#General\n",
    "import os\n",
    "import numpy as np\n",
    "\n",
    "# custom code\n",
    "from zebrafish.configs import get_default_instance_segmentation_config, load_config\n",
    "from zebrafish.dataset import register_datasets, load_all_image_in_dataset\n",
    "from zebrafish.evaluation import coco_evaluation, coco_evaluation_all_model\n",
    "from zebrafish.model import predict\n",
    "from zebrafish.trainers import TrainingUtil\n",
    "from zebrafish.visualization import plot_prediction, plot_train_vs_validation_loss, plot_segementation, plot_segementation_vs_real\n",
    "from zebrafish.utils import is_in_main_dir\n",
    "\n",
    "#detectron\n",
    "from detectron2.utils.logger import setup_logger\n",
    "\n",
    "\n",
    "setup_logger()\n",
    "\n",
    "if \"notebooks\" in os.getcwd() and \"colab\" in os.getcwd():\n",
    "    os.chdir(\"..\")\n",
    "    os.chdir(\"..\")\n",
    "\n",
    "assert is_in_main_dir(), \"The notebook expectes you to be in the main directory\"\n",
    "\n",
    "register_datasets(\"dataset\")"
   ]
  },
  {
   "cell_type": "code",
   "execution_count": null,
   "metadata": {},
   "outputs": [],
   "source": [
    "max_iter = 1000\n",
    "use_direction_classes = False\n",
    "\n",
    "# Create a new model everytime you run this cell\n",
    "cfg = get_default_instance_segmentation_config(\n",
    "    use_direction_classes,\n",
    "    max_iter=max_iter,\n",
    ")\n",
    "\n",
    "# Loads an old model\n",
    "# cfg = load_config(path_to_model) # load cfg from disk\n",
    "# use_direction_classes = cfg.DATASETS.USE_DIRECTION_CLASSES # load use_direction_classes from disk"
   ]
  },
  {
   "cell_type": "code",
   "execution_count": null,
   "metadata": {},
   "outputs": [],
   "source": [
    "cfg.SOLVER.MAX_ITER = max_iter # Increase the number of iters here if needed."
   ]
  },
  {
   "cell_type": "code",
   "execution_count": null,
   "metadata": {
    "scrolled": false
   },
   "outputs": [],
   "source": [
    "resume = True # Set to true if want to continue training where use left off.\n",
    "TrainingUtil.train(cfg, resume=resume)"
   ]
  },
  {
   "cell_type": "markdown",
   "metadata": {
    "pycharm": {
     "name": "#%% md\n"
    }
   },
   "source": [
    "## Learning curve"
   ]
  },
  {
   "cell_type": "code",
   "execution_count": null,
   "metadata": {},
   "outputs": [],
   "source": [
    "plot_train_vs_validation_loss([cfg.OUTPUT_DIR], show_training_loss=True)"
   ]
  },
  {
   "cell_type": "markdown",
   "metadata": {
    "colab_type": "text",
    "id": "AjmhnJFpX2RJ",
    "pycharm": {
     "name": "#%% md\n"
    }
   },
   "source": [
    "## Evaluation"
   ]
  },
  {
   "cell_type": "code",
   "execution_count": null,
   "metadata": {
    "pycharm": {
     "name": "#%%\n"
    }
   },
   "outputs": [],
   "source": [
    "coco_evaluation(cfg, dataset_name=\"test\")\n"
   ]
  },
  {
   "cell_type": "markdown",
   "metadata": {},
   "source": [
    "## Evaluation against other models"
   ]
  },
  {
   "cell_type": "code",
   "execution_count": null,
   "metadata": {
    "pycharm": {
     "name": "#%%\n"
    }
   },
   "outputs": [],
   "source": [
    "bbox_df, segm_df = coco_evaluation_all_model(\"test\")"
   ]
  },
  {
   "cell_type": "code",
   "execution_count": null,
   "metadata": {
    "pycharm": {
     "name": "#%%\n"
    }
   },
   "outputs": [],
   "source": [
    "bbox_df"
   ]
  },
  {
   "cell_type": "code",
   "execution_count": null,
   "metadata": {
    "pycharm": {
     "name": "#%%\n"
    }
   },
   "outputs": [],
   "source": [
    "segm_df"
   ]
  },
  {
   "cell_type": "markdown",
   "metadata": {},
   "source": [
    "## Tensorboard"
   ]
  },
  {
   "cell_type": "code",
   "execution_count": null,
   "metadata": {},
   "outputs": [],
   "source": [
    "%load_ext tensorboard\n",
    "%tensorboard --logdir output"
   ]
  },
  {
   "cell_type": "markdown",
   "metadata": {
    "colab_type": "text",
    "id": "Yn7fTVREXvj0",
    "pycharm": {
     "name": "#%% md\n"
    }
   },
   "source": [
    "## Visualization\n",
    "Here we display the prediction for the unseen test set."
   ]
  },
  {
   "cell_type": "code",
   "execution_count": null,
   "metadata": {
    "colab": {
     "base_uri": "https://localhost:8080/",
     "height": 1000
    },
    "colab_type": "code",
    "id": "P4V9iyTtll8D",
    "outputId": "d298182d-174c-4fd2-a7a7-e656b598822c",
    "pycharm": {
     "name": "#%%\n"
    },
    "scrolled": false
   },
   "outputs": [],
   "source": [
    "threshold = 0.75\n",
    "n_images = 10\n",
    "dataset = \"test\"\n",
    "\n",
    "images = load_all_image_in_dataset(dataset, cfg)[:n_images]\n",
    "predictions = predict(cfg, images, threshold=threshold)"
   ]
  },
  {
   "cell_type": "markdown",
   "metadata": {},
   "source": [
    "### Prediction"
   ]
  },
  {
   "cell_type": "code",
   "execution_count": null,
   "metadata": {
    "scrolled": false
   },
   "outputs": [],
   "source": [
    "for image, prediction in zip(images, predictions):\n",
    "    plot_prediction(image, prediction, cfg)\n",
    "    plot_segementation(image, prediction)\n",
    "    plot_segementation_vs_real(image, prediction)"
   ]
  }
 ],
 "metadata": {
  "accelerator": "GPU",
  "colab": {
   "collapsed_sections": [],
   "name": "Detectron2: Train on a custom dataset.ipynb",
   "provenance": []
  },
  "kernelspec": {
   "display_name": "Python 3",
   "language": "python",
   "name": "python3"
  },
  "language_info": {
   "codemirror_mode": {
    "name": "ipython",
    "version": 3
   },
   "file_extension": ".py",
   "mimetype": "text/x-python",
   "name": "python",
   "nbconvert_exporter": "python",
   "pygments_lexer": "ipython3",
   "version": "3.7.7"
  }
 },
 "nbformat": 4,
 "nbformat_minor": 1
}